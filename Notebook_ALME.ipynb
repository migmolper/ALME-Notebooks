{
 "cells": [
  {
   "cell_type": "code",
   "execution_count": 1,
   "id": "20b7a4b3-f2ea-408e-94d4-4c0cb64db30e",
   "metadata": {},
   "outputs": [],
   "source": [
    "from Shape_Fun_aLME import *\n",
    "%matplotlib inline"
   ]
  },
  {
   "cell_type": "markdown",
   "id": "1daab357",
   "metadata": {},
   "source": [
    "# This notebook allow us to play arround with the ALME shape functions"
   ]
  },
  {
   "cell_type": "code",
   "execution_count": 4,
   "id": "35c558e4-4cb0-404b-b757-98da05de508a",
   "metadata": {},
   "outputs": [
    {
     "data": {
      "application/vnd.jupyter.widget-view+json": {
       "model_id": "bb4a9a6c8f1442af9a1a6642ea415651",
       "version_major": 2,
       "version_minor": 0
      },
      "text/plain": [
       "interactive(children=(FloatSlider(value=0.0, description='x_p', max=2.0, min=-2.0, step=0.01), FloatSlider(val…"
      ]
     },
     "metadata": {},
     "output_type": "display_data"
    }
   ],
   "source": [
    "x_p_s = FloatSlider(min=-2.0, max=2.0, step=0.01, value=0.0, orientation='horizontal')\n",
    "y_p_s = FloatSlider(min=-2.0, max=2.0, step=0.01, value=0.0, orientation='horizontal')\n",
    "gamma_s = FloatSlider(min=0.0, max=30.0, step=0.01, value=0.5, orientation='horizontal') \n",
    "shear_s = FloatSlider(min=0.0, max=2.0, step=0.01, value=0, orientation='horizontal')\n",
    "Plot_opt_s = IntSlider(min=0.0, max=1.0, value=0, orientation='horizontal')\n",
    "\n",
    "interactive_plot = interactive(ALME_interactive,x_p = x_p_s, y_p = y_p_s, gamma = gamma_s, shear = shear_s, Plot_opt = Plot_opt_s)\n",
    "\n",
    "display(interactive_plot)"
   ]
  },
  {
   "cell_type": "code",
   "execution_count": 3,
   "id": "5f5df373",
   "metadata": {},
   "outputs": [
    {
     "name": "stdout",
     "output_type": "stream",
     "text": [
      "[1.21707502e-01 1.21965507e-01 4.46789737e-02 6.52011885e-02\n",
      " 9.42188942e-02 1.65988706e-02 6.52275039e-02 1.66760482e-02\n",
      " 9.38585618e-02 1.44307328e-02 2.54770184e-03 1.65468120e-04\n",
      " 3.39741729e-04 2.14048309e-04 1.98377085e-04 4.33256813e-03\n",
      " 3.93614530e-03 1.75438618e-03 4.80891599e-06 7.72952493e-07\n",
      " 1.10064457e-05 2.28263577e-02 6.40993468e-03 6.62180072e-04\n",
      " 2.99772247e-04 6.03385052e-03 5.47890561e-06 5.35600715e-05\n",
      " 1.55455855e-03 6.78860797e-07 9.67557359e-03 4.96846859e-02\n",
      " 6.93164655e-04 3.95353496e-06 3.47506035e-08 0.00000000e+00\n",
      " 0.00000000e+00 0.00000000e+00 0.00000000e+00 0.00000000e+00\n",
      " 0.00000000e+00 0.00000000e+00 7.34917662e-10 1.20565966e-07\n",
      " 0.00000000e+00 0.00000000e+00 0.00000000e+00 0.00000000e+00\n",
      " 4.23013443e-06 1.32688606e-07 4.96112564e-05 1.61748073e-04\n",
      " 7.31612961e-06 1.31553486e-03 9.94215618e-10 0.00000000e+00\n",
      " 4.57050231e-08 2.55516396e-03 1.44118324e-02 2.99037155e-02\n",
      " 1.32194371e-07 4.23226503e-06 1.51900284e-09 9.92211696e-10\n",
      " 4.58064936e-08 0.00000000e+00 1.61552385e-04 1.31951998e-03\n",
      " 7.27639542e-06 0.00000000e+00 0.00000000e+00 0.00000000e+00\n",
      " 0.00000000e+00 0.00000000e+00 1.53115307e-09 7.45216555e-10\n",
      " 0.00000000e+00 1.21738847e-07 0.00000000e+00 0.00000000e+00\n",
      " 0.00000000e+00 3.52980400e-08 3.99884405e-06 1.66657116e-04\n",
      " 6.09807745e-03 3.04249006e-04 4.49637187e-02 9.79534053e-03\n",
      " 7.04723224e-04 5.00871144e-02 5.42668311e-05 6.90738080e-07\n",
      " 1.56841520e-03 6.50041154e-03 2.30507209e-02 3.00700182e-02\n",
      " 2.15977842e-04 3.44259272e-04 4.98469130e-05 4.86059032e-06\n",
      " 1.11719319e-05 7.77956429e-07 4.38265943e-03 1.78220180e-03\n",
      " 3.96482560e-03 4.51922067e-08 5.01610931e-09 2.04821694e-10]\n"
     ]
    }
   ],
   "source": [
    "\n",
    "Gamma = 0.5\n",
    "N = 1\n",
    "DeltaX = 1\n",
    "X_I = automatic_create_mesh(N, DeltaX)\n",
    "newshape = (X_I.shape[0]*X_I.shape[1],1)\n",
    "#print(X_I.reshape(newshape))\n",
    "F = np.eye(2, 2)\n",
    "F[0,1] = 1\n",
    "\n",
    "X_p = np.array([0.0, 0.0])\n",
    "\n",
    "# Compute shape function\n",
    "Beta = LME_compute_beta(Gamma, DeltaX)\n",
    "R = LME_compute_R(Gamma, DeltaX)\n",
    "\n",
    "p = LME_p(X_I, X_p, Beta, R, F)\n",
    "dp = LME_dp(X_I, X_p, Beta, R, F)\n",
    "\n",
    "print(p)\n",
    "#print(dp.reshape(newshape))"
   ]
  },
  {
   "cell_type": "code",
   "execution_count": null,
   "id": "7c895648",
   "metadata": {},
   "outputs": [],
   "source": []
  }
 ],
 "metadata": {
  "kernelspec": {
   "display_name": "Python 3 (ipykernel)",
   "language": "python",
   "name": "python3"
  },
  "language_info": {
   "codemirror_mode": {
    "name": "ipython",
    "version": 3
   },
   "file_extension": ".py",
   "mimetype": "text/x-python",
   "name": "python",
   "nbconvert_exporter": "python",
   "pygments_lexer": "ipython3",
   "version": "3.9.7"
  }
 },
 "nbformat": 4,
 "nbformat_minor": 5
}
