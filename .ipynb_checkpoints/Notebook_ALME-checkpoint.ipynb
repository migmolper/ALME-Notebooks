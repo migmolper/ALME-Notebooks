{
 "cells": [
  {
   "cell_type": "code",
   "execution_count": 1,
   "id": "20b7a4b3-f2ea-408e-94d4-4c0cb64db30e",
   "metadata": {},
   "outputs": [],
   "source": [
    "from Shape_Fun_aLME import *\n",
    "%matplotlib inline"
   ]
  },
  {
   "cell_type": "markdown",
   "id": "1daab357",
   "metadata": {},
   "source": [
    "# This notebook allow us to play arround with the ALME shape functions"
   ]
  },
  {
   "cell_type": "code",
   "execution_count": 2,
   "id": "35c558e4-4cb0-404b-b757-98da05de508a",
   "metadata": {},
   "outputs": [
    {
     "data": {
      "application/vnd.jupyter.widget-view+json": {
       "model_id": "47b077767b32453ca916c070d7db27d7",
       "version_major": 2,
       "version_minor": 0
      },
      "text/plain": [
       "interactive(children=(FloatSlider(value=0.0, description='x_p', max=2.0, min=-2.0, step=0.01), FloatSlider(val…"
      ]
     },
     "metadata": {},
     "output_type": "display_data"
    }
   ],
   "source": [
    "x_p_s = FloatSlider(min=-2.0, max=2.0, step=0.01, value=0.0, orientation='horizontal')\n",
    "y_p_s = FloatSlider(min=-2.0, max=2.0, step=0.01, value=0.0, orientation='horizontal')\n",
    "gamma_s = FloatSlider(min=0.0, max=30.0, step=0.01, value=0.5, orientation='horizontal') \n",
    "shear_s = FloatSlider(min=0.0, max=2.0, step=0.1, value=0, orientation='horizontal')\n",
    "Plot_opt_s = IntSlider(min=0.0, max=1.0, value=0, orientation='horizontal')\n",
    "\n",
    "interactive_plot = interactive(ALME_interactive,x_p = x_p_s, y_p = y_p_s, gamma = gamma_s, shear = shear_s, Plot_opt = Plot_opt_s)\n",
    "\n",
    "display(interactive_plot)"
   ]
  },
  {
   "cell_type": "code",
   "execution_count": 10,
   "id": "5f5df373",
   "metadata": {},
   "outputs": [
    {
     "name": "stdout",
     "output_type": "stream",
     "text": [
      "[1.21635545e-01 1.21639932e-01 4.47456021e-02 9.47313639e-02\n",
      " 5.74595492e-02 5.74554042e-02 9.47317677e-02 5.74597941e-02\n",
      " 5.74556491e-02 2.71414218e-02 2.71404428e-02 9.98405081e-03\n",
      " 7.47280118e-07 1.50100638e-05 1.36864191e-08 5.23892140e-05\n",
      " 6.38254305e-04 1.58196012e-06 1.29860432e-07 1.58208099e-06\n",
      " 3.92130381e-09 1.35115713e-03 6.72677258e-05 1.23200693e-06\n",
      " 3.01471746e-04 6.05544031e-03 5.52144847e-06 1.05225652e-03\n",
      " 1.28195711e-02 3.17742475e-05 1.05226101e-03 1.28196258e-02\n",
      " 3.17743829e-05 1.35114561e-03 6.72671523e-05 1.23199643e-06\n",
      " 7.47267376e-07 1.50098079e-05 1.36861857e-08 1.29857664e-07\n",
      " 1.58204727e-06 3.92122023e-09 5.23885440e-05 6.38246143e-04\n",
      " 1.58193989e-06 8.30165475e-09 4.13300144e-10 0.00000000e+00\n",
      " 3.01506941e-04 3.01517817e-04 1.10914204e-04 4.71643710e-03\n",
      " 2.86076689e-03 2.86056052e-03 1.16909286e-05 7.09116240e-06\n",
      " 7.09065085e-06 2.71416532e-02 2.71406742e-02 9.98413593e-03\n",
      " 3.01501800e-04 3.01512676e-04 1.10912313e-04 1.16906794e-05\n",
      " 7.09101125e-06 7.09049972e-06 4.71637679e-03 2.86073031e-03\n",
      " 2.86052394e-03 1.66761237e-07 1.66755222e-07 6.13436053e-08\n",
      " 1.50127712e-05 7.47468826e-07 1.10926207e-04 5.24005535e-05\n",
      " 1.58241668e-06 6.38346400e-04 1.29888540e-07 3.92243552e-09\n",
      " 1.58230927e-06 6.72847126e-05 1.35140083e-03 9.98521639e-03\n",
      " 6.05653252e-03 3.01547876e-04 4.47504444e-02 1.05248428e-03\n",
      " 3.17834177e-05 1.28214209e-02 1.05248877e-03 3.17835532e-05\n",
      " 1.28214755e-02 6.72841389e-05 1.35138931e-03 9.98513125e-03\n",
      " 1.50125152e-05 7.47456080e-07 1.10924316e-04 1.29885771e-07\n",
      " 3.92235191e-09 1.58227555e-06 5.23998834e-05 1.58239645e-06\n",
      " 6.38338237e-04 4.13404513e-10 8.30315211e-09 6.13502437e-08]\n"
     ]
    }
   ],
   "source": [
    "\n",
    "Gamma = 0.5\n",
    "N = 1\n",
    "DeltaX = 1\n",
    "X_I = automatic_create_mesh(N, DeltaX)\n",
    "newshape = (X_I.shape[0]*X_I.shape[1],1)\n",
    "#print(X_I.reshape(newshape))\n",
    "F = np.eye(2, 2)\n",
    "F[0,1] = 1\n",
    "\n",
    "X_p = np.array([0.0, 0.0])\n",
    "\n",
    "# Compute shape function\n",
    "Beta = LME_compute_beta(Gamma, DeltaX)\n",
    "R = LME_compute_R(Gamma, DeltaX)\n",
    "\n",
    "p = LME_p(X_I, X_p, Beta, R, F)\n",
    "dp = LME_dp(X_I, X_p, Beta, R, F)\n",
    "\n",
    "print(p)\n",
    "#print(dp.reshape(newshape))"
   ]
  },
  {
   "cell_type": "code",
   "execution_count": null,
   "id": "7390dda7",
   "metadata": {},
   "outputs": [],
   "source": []
  }
 ],
 "metadata": {
  "kernelspec": {
   "display_name": "Python 3 (ipykernel)",
   "language": "python",
   "name": "python3"
  },
  "language_info": {
   "codemirror_mode": {
    "name": "ipython",
    "version": 3
   },
   "file_extension": ".py",
   "mimetype": "text/x-python",
   "name": "python",
   "nbconvert_exporter": "python",
   "pygments_lexer": "ipython3",
   "version": "3.9.7"
  }
 },
 "nbformat": 4,
 "nbformat_minor": 5
}
